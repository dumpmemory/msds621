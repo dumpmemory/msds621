{
 "cells": [
  {
   "cell_type": "markdown",
   "metadata": {},
   "source": [
    "# Training vs validation loss\n",
    "\n",
    "[![Open In Colab](https://colab.research.google.com/assets/colab-badge.svg)](https://colab.research.google.com/github/parrt/fundamentals-of-deep-learning/blob/main/notebooks/3.train-test-diabetes.ipynb)\n",
    "\n",
    "By [Terence Parr](https://explained.ai).\n",
    "\n",
    "This notebook explores how to use a validation set to estimate how well a model generalizes from its training data to unknown test vectors. We will see that deep learning models often have so many parameters that we can drive training loss to zero, but unfortunately the validation loss grows as the model overfits. We will also compare how deep learning performs compared to a random forest model as a baseline.  Instead of the cars data set, we will use the [diabetes data set](https://scikit-learn.org/stable/datasets/toy_dataset.html#diabetes-dataset) loaded via sklearn."
   ]
  },
  {
   "cell_type": "markdown",
   "metadata": {},
   "source": [
    "## Support code"
   ]
  },
  {
   "cell_type": "code",
   "execution_count": 65,
   "metadata": {},
   "outputs": [],
   "source": [
    "import os\n",
    "import sys\n",
    "import torch\n",
    "import copy\n",
    "import torch.nn as nn\n",
    "import torch.nn.functional as F\n",
    "import numpy as np\n",
    "import pandas as pd\n",
    "from sklearn.model_selection import train_test_split\n",
    "from sklearn.datasets import load_diabetes\n",
    "from sklearn.metrics import r2_score\n",
    "from sklearn.ensemble import RandomForestRegressor\n",
    "import matplotlib.pyplot as plt\n",
    "from matplotlib import colors \n",
    "import colour\n",
    "\n",
    "%config InlineBackend.figure_format = 'retina'\n",
    "\n",
    "import tsensor"
   ]
  },
  {
   "cell_type": "code",
   "execution_count": 34,
   "metadata": {},
   "outputs": [],
   "source": [
    "def plot_history(history, ax=None, maxy=None, file=None):\n",
    "    if ax is None:\n",
    "        fig, ax = plt.subplots(1,1, figsize=(3.5,3))\n",
    "    ax.set_ylabel(\"Loss\")\n",
    "    ax.set_xlabel(\"Epochs\")\n",
    "    loss = history[:,0]\n",
    "    val_loss = history[:,1]\n",
    "    if maxy:\n",
    "        ax.set_ylim(0,maxy)\n",
    "    else:\n",
    "        ax.set_ylim(0,torch.max(val_loss))\n",
    "    ax.spines['top'].set_visible(False)    # turns off the top \"spine\" completely\n",
    "    ax.spines['right'].set_visible(False)\n",
    "    ax.spines['left'].set_linewidth(.5)\n",
    "    ax.spines['bottom'].set_linewidth(.5)\n",
    "    ax.plot(loss, label='train_loss')\n",
    "    ax.plot(val_loss, label='val_loss')\n",
    "    ax.legend(loc='upper right')\n",
    "    plt.tight_layout()\n",
    "    if file:\n",
    "        plt.savefig(f\"/Users/{os.environ['USER']}/Desktop/{file}.pdf\")"
   ]
  },
  {
   "cell_type": "markdown",
   "metadata": {},
   "source": [
    "## Load diabetes data set\n",
    "\n",
    "From [sklearn diabetes data set](https://scikit-learn.org/stable/datasets/toy_dataset.html#diabetes-dataset):\n",
    "\"<i>Ten baseline variables, age, sex, body mass index, average blood pressure, and six blood serum measurements were obtained for each of n = 442 diabetes patients, as well as the response of interest, a quantitative measure of disease progression one year after baseline.</i>\"\n",
    "\n",
    "So, the goal is to predict disease progression based upon all of these features."
   ]
  },
  {
   "cell_type": "code",
   "execution_count": 35,
   "metadata": {},
   "outputs": [
    {
     "data": {
      "text/plain": [
       "442"
      ]
     },
     "execution_count": 35,
     "metadata": {},
     "output_type": "execute_result"
    }
   ],
   "source": [
    "d = load_diabetes()\n",
    "len(d.data)"
   ]
  },
  {
   "cell_type": "code",
   "execution_count": 36,
   "metadata": {},
   "outputs": [
    {
     "data": {
      "text/html": [
       "<div>\n",
       "<style scoped>\n",
       "    .dataframe tbody tr th:only-of-type {\n",
       "        vertical-align: middle;\n",
       "    }\n",
       "\n",
       "    .dataframe tbody tr th {\n",
       "        vertical-align: top;\n",
       "    }\n",
       "\n",
       "    .dataframe thead th {\n",
       "        text-align: right;\n",
       "    }\n",
       "</style>\n",
       "<table border=\"1\" class=\"dataframe\">\n",
       "  <thead>\n",
       "    <tr style=\"text-align: right;\">\n",
       "      <th></th>\n",
       "      <th>age</th>\n",
       "      <th>sex</th>\n",
       "      <th>bmi</th>\n",
       "      <th>bp</th>\n",
       "      <th>s1</th>\n",
       "      <th>s2</th>\n",
       "      <th>s3</th>\n",
       "      <th>s4</th>\n",
       "      <th>s5</th>\n",
       "      <th>s6</th>\n",
       "      <th>disease</th>\n",
       "    </tr>\n",
       "  </thead>\n",
       "  <tbody>\n",
       "    <tr>\n",
       "      <th>0</th>\n",
       "      <td>0.038076</td>\n",
       "      <td>0.050680</td>\n",
       "      <td>0.061696</td>\n",
       "      <td>0.021872</td>\n",
       "      <td>-0.044223</td>\n",
       "      <td>-0.034821</td>\n",
       "      <td>-0.043401</td>\n",
       "      <td>-0.002592</td>\n",
       "      <td>0.019908</td>\n",
       "      <td>-0.017646</td>\n",
       "      <td>151.0</td>\n",
       "    </tr>\n",
       "    <tr>\n",
       "      <th>1</th>\n",
       "      <td>-0.001882</td>\n",
       "      <td>-0.044642</td>\n",
       "      <td>-0.051474</td>\n",
       "      <td>-0.026328</td>\n",
       "      <td>-0.008449</td>\n",
       "      <td>-0.019163</td>\n",
       "      <td>0.074412</td>\n",
       "      <td>-0.039493</td>\n",
       "      <td>-0.068330</td>\n",
       "      <td>-0.092204</td>\n",
       "      <td>75.0</td>\n",
       "    </tr>\n",
       "    <tr>\n",
       "      <th>2</th>\n",
       "      <td>0.085299</td>\n",
       "      <td>0.050680</td>\n",
       "      <td>0.044451</td>\n",
       "      <td>-0.005671</td>\n",
       "      <td>-0.045599</td>\n",
       "      <td>-0.034194</td>\n",
       "      <td>-0.032356</td>\n",
       "      <td>-0.002592</td>\n",
       "      <td>0.002864</td>\n",
       "      <td>-0.025930</td>\n",
       "      <td>141.0</td>\n",
       "    </tr>\n",
       "  </tbody>\n",
       "</table>\n",
       "</div>"
      ],
      "text/plain": [
       "        age       sex       bmi        bp        s1        s2        s3  \\\n",
       "0  0.038076  0.050680  0.061696  0.021872 -0.044223 -0.034821 -0.043401   \n",
       "1 -0.001882 -0.044642 -0.051474 -0.026328 -0.008449 -0.019163  0.074412   \n",
       "2  0.085299  0.050680  0.044451 -0.005671 -0.045599 -0.034194 -0.032356   \n",
       "\n",
       "         s4        s5        s6  disease  \n",
       "0 -0.002592  0.019908 -0.017646    151.0  \n",
       "1 -0.039493 -0.068330 -0.092204     75.0  \n",
       "2 -0.002592  0.002864 -0.025930    141.0  "
      ]
     },
     "execution_count": 36,
     "metadata": {},
     "output_type": "execute_result"
    }
   ],
   "source": [
    "df = pd.DataFrame(d.data, columns=d.feature_names)\n",
    "df['disease'] = d.target # \"quantitative measure of disease progression one year after baseline\"\n",
    "df.head(3)"
   ]
  },
  {
   "cell_type": "markdown",
   "metadata": {},
   "source": [
    "## Split data into train, validation sets\n",
    "\n",
    "Any sufficiently powerful model is able to effectively drive down the training loss (error). What we really care about, though, is how well the model generalizes. That means we have to look at the validation or test error, computed from records the model was not trained on. (We'll use \"test\" as shorthand for \"validation\" often, but technically they are not the same.)  For non-time-sensitive data sets, we can simply randomize and hold out 20% of our data as our validation set:"
   ]
  },
  {
   "cell_type": "code",
   "execution_count": 37,
   "metadata": {},
   "outputs": [],
   "source": [
    "np.random.seed(1) # set a random seed for consistency across runs\n",
    "n = len(df)\n",
    "X = df.drop('disease',axis=1).values\n",
    "y = df['disease'].values\n",
    "X_train, X_test, y_train, y_test = train_test_split(X, y, test_size=0.20) # hold out 20%"
   ]
  },
  {
   "cell_type": "code",
   "execution_count": 38,
   "metadata": {},
   "outputs": [
    {
     "data": {
      "text/plain": [
       "(442, 353, 89)"
      ]
     },
     "execution_count": 38,
     "metadata": {},
     "output_type": "execute_result"
    }
   ],
   "source": [
    "len(X), len(X_train), len(X_test)"
   ]
  },
  {
   "cell_type": "markdown",
   "metadata": {},
   "source": [
    "Let's also make sure to normalize the data to make training easier:"
   ]
  },
  {
   "cell_type": "code",
   "execution_count": 39,
   "metadata": {},
   "outputs": [],
   "source": [
    "m = np.mean(X_train,axis=0)\n",
    "std = np.std(X_train,axis=0)\n",
    "X_train = (X_train-m)/std\n",
    "X_test = (X_test-m)/std       # use training data only when prepping test sets"
   ]
  },
  {
   "cell_type": "markdown",
   "metadata": {},
   "source": [
    "## Baseline with random forest\n",
    "\n",
    "When building machine learning models, it's always important to ask how good your model is. One of the best ways is to choose a baseline model, such as a random forest or a linear regression model, and compare your new model to make sure it can beat the old model.  Random forests are easy to use, understand, and train so they are a good baseline.  Don't worry about the details of using sklearn to train the random forest regressor, just assume it is a powerful and efficient model. Training the model is as simple as calling `fit()`:"
   ]
  },
  {
   "cell_type": "code",
   "execution_count": 40,
   "metadata": {},
   "outputs": [
    {
     "data": {
      "text/plain": [
       "RandomForestRegressor(n_estimators=500)"
      ]
     },
     "execution_count": 40,
     "metadata": {},
     "output_type": "execute_result"
    }
   ],
   "source": [
    "rf = RandomForestRegressor(n_estimators=500)#, min_samples_leaf=2, max_features=1)\n",
    "rf.fit(X_train, y_train.reshape(-1))"
   ]
  },
  {
   "cell_type": "markdown",
   "metadata": {},
   "source": [
    "To evaluate our models, let's compute the mean squared error (MSE) for both training and validation sets:"
   ]
  },
  {
   "cell_type": "code",
   "execution_count": 41,
   "metadata": {},
   "outputs": [
    {
     "name": "stdout",
     "output_type": "stream",
     "text": [
      "Training MSE 443.77 validation MSE 3745.30\n"
     ]
    }
   ],
   "source": [
    "y_pred = rf.predict(X_train)\n",
    "mse = np.mean((y_pred - y_train.reshape(-1))**2)\n",
    "\n",
    "y_pred_test = rf.predict(X_test)\n",
    "mse_test = np.mean((y_pred_test - y_test.reshape(-1))**2)\n",
    "\n",
    "print(f\"Training MSE {mse:.2f} validation MSE {mse_test:.2f}\")"
   ]
  },
  {
   "cell_type": "markdown",
   "metadata": {},
   "source": [
    "Let's check $R^2$ as well."
   ]
  },
  {
   "cell_type": "code",
   "execution_count": 43,
   "metadata": {},
   "outputs": [
    {
     "data": {
      "text/plain": [
       "(0.9269354185671265, 0.297181470721385)"
      ]
     },
     "execution_count": 43,
     "metadata": {},
     "output_type": "execute_result"
    }
   ],
   "source": [
    "rf.score(X_train, y_train), rf.score(X_test, y_test)"
   ]
  },
  {
   "cell_type": "markdown",
   "metadata": {},
   "source": [
    "#### Exercise\n",
    "\n",
    "Why is the validation error much larger than the training error?\n",
    "\n",
    "<details>\n",
    "<summary>Solution</summary>\n",
    "    Because the model was trained on the training set, one would expect it to generally perform better on it than any other data set.  The more the validation error diverges from the training error, the less general you should assume your model is.\n",
    "</details>"
   ]
  },
  {
   "cell_type": "markdown",
   "metadata": {},
   "source": [
    "## Train neural network model\n",
    "\n",
    "Ok, so now we have a baseline and an understanding of how well a decent model performs on this data set. Let's see if we can beat that baseline with a neural network. First we will see how easy it is to drive the training error down and then show how the validation error is not usually very good in that case.  We will finish by considering ways to get better validation errors, which means more general models."
   ]
  },
  {
   "cell_type": "markdown",
   "metadata": {},
   "source": [
    "### Most basic network training\n",
    "\n",
    "A basic training loop for a neural network model simply measures and tracks the training loss or error/metric. (In this case, our loss and metric are the same.)  The following function embodies such a training loop:"
   ]
  },
  {
   "cell_type": "code",
   "execution_count": 44,
   "metadata": {},
   "outputs": [],
   "source": [
    "def train0(model, X_train, X_test, y_train, y_test,\n",
    "          learning_rate = .5, nepochs=2000):\n",
    "    optimizer = torch.optim.Adam(model.parameters(), lr=learning_rate)\n",
    "    for epoch in range(nepochs+1):\n",
    "        y_pred = model(X_train)\n",
    "        loss = torch.mean((y_pred - y_train)**2)\n",
    "        if epoch % (nepochs//10) == 0:\n",
    "            print(f\"Epoch {epoch:4d} MSE train loss {loss:12.3f}\")\n",
    "            \n",
    "        optimizer.zero_grad()\n",
    "        loss.backward() # autograd computes w1.grad, b1.grad, ...\n",
    "        optimizer.step()"
   ]
  },
  {
   "cell_type": "markdown",
   "metadata": {},
   "source": [
    "To use this method, we have to convert the training and validation data sets to pytorch tensors from numpy (they are already normalized):"
   ]
  },
  {
   "cell_type": "code",
   "execution_count": 45,
   "metadata": {},
   "outputs": [],
   "source": [
    "X_train = torch.tensor(X_train).float()\n",
    "X_test = torch.tensor(X_test).float()\n",
    "y_train = torch.tensor(y_train).float().reshape(-1,1) # column vector\n",
    "y_test = torch.tensor(y_test).float().reshape(-1,1)"
   ]
  },
  {
   "cell_type": "markdown",
   "metadata": {},
   "source": [
    "Let's create a model with one hidden layer and an output layer, glued together with a ReLU nonlinearity.  The network looks something like the following except of course we have many more input features and neurons then shown here:\n",
    "\n",
    "<img src=\"images/diabetes-relu.png\" width=\"300\">\n",
    "\n",
    "There is an implied input layer which is really just the input vector of features. The output layer takes the output of the hidden layer and generates a single output, our $\\hat{y}$:"
   ]
  },
  {
   "cell_type": "code",
   "execution_count": 57,
   "metadata": {},
   "outputs": [
    {
     "name": "stdout",
     "output_type": "stream",
     "text": [
      "Epoch    0 MSE train loss    29584.062\n",
      "Epoch  500 MSE train loss      492.858\n",
      "Epoch 1000 MSE train loss      159.819\n",
      "Epoch 1500 MSE train loss       75.240\n",
      "Epoch 2000 MSE train loss       39.704\n",
      "Epoch 2500 MSE train loss      213.632\n",
      "Epoch 3000 MSE train loss       12.191\n",
      "Epoch 3500 MSE train loss       20.866\n",
      "Epoch 4000 MSE train loss        7.563\n",
      "Epoch 4500 MSE train loss        3.197\n",
      "Epoch 5000 MSE train loss        2.332\n"
     ]
    }
   ],
   "source": [
    "ncols = X.shape[1]\n",
    "n_neurons = 150\n",
    "\n",
    "model = nn.Sequential(\n",
    "    nn.Linear(ncols, n_neurons), # hidden layer\n",
    "    nn.ReLU(),                   # nonlinearity\n",
    "    nn.Linear(n_neurons, 1)      # output layer\n",
    ")\n",
    "\n",
    "train0(model, X_train, X_test, y_train, y_test, learning_rate=.08, nepochs=5000)"
   ]
  },
  {
   "cell_type": "markdown",
   "metadata": {},
   "source": [
    "Run this a few times and you'll see that we can drive the training error very close to zero with 150 neurons and many iterations (epochs)."
   ]
  },
  {
   "cell_type": "markdown",
   "metadata": {},
   "source": [
    "#### Exercise\n",
    "\n",
    "Why does the training loss sometimes pop up and then go back down? Why is it not monotonically decreasing?\n",
    "\n",
    "<details>\n",
    "<summary>Solution</summary>\n",
    "    The only source of randomness is the initialization of the model parameters, but that does not explain the lack of monotonicity. In this situation, it is likely that the learning rate is too high and therefore, as we approach the minimum of the lost function, our steps are too big. We are jumping back and forth across the location of the minimum in parameter space.\n",
    "</details>"
   ]
  },
  {
   "cell_type": "markdown",
   "metadata": {},
   "source": [
    "#### Exercise\n",
    "\n",
    "Change the learning rate from 0.08 to 0.001 and rerun the example.  What happens to the training loss?  Is it better or worse than the baseline random forest and the model trained with learning rate 0.08?\n",
    "\n",
    "<details>\n",
    "<summary>Solution</summary>\n",
    "     The training loss continues to decrease but much lower than before and stops long before reaching a loss near zero. On the other hand, it is better than the training error from the baseline random forest.\n",
    "</details>"
   ]
  },
  {
   "cell_type": "markdown",
   "metadata": {},
   "source": [
    "##  Reducing the learning rate to zero in on the minimum\n",
    "\n",
    "In one of the above exercises we discussed that the learning rate was probably too high in the vicinity of the lost function minimum.  There are ways to throttle the learning rate down as we approach the minimum, but we are using a fixed learning rate here. In order to get a smooth, monotonic reduction in loss function let's start with a smaller learning rate, but that means increasing the number of epochs:"
   ]
  },
  {
   "cell_type": "code",
   "execution_count": 62,
   "metadata": {},
   "outputs": [
    {
     "name": "stdout",
     "output_type": "stream",
     "text": [
      "Epoch    0 MSE train loss    29548.352\n",
      "Epoch  800 MSE train loss     2101.343\n",
      "Epoch 1600 MSE train loss     1091.825\n",
      "Epoch 2400 MSE train loss      308.611\n",
      "Epoch 3200 MSE train loss       70.748\n",
      "Epoch 4000 MSE train loss       26.113\n",
      "Epoch 4800 MSE train loss       10.978\n",
      "Epoch 5600 MSE train loss        4.934\n",
      "Epoch 6400 MSE train loss        2.993\n",
      "Epoch 7200 MSE train loss        4.263\n",
      "Epoch 8000 MSE train loss        1.385\n"
     ]
    }
   ],
   "source": [
    "ncols = X.shape[1]\n",
    "n_neurons = 150\n",
    "\n",
    "model = nn.Sequential(\n",
    "    nn.Linear(ncols, n_neurons), # hidden layer\n",
    "    nn.ReLU(),                   # nonlinearity\n",
    "    nn.Linear(n_neurons, 1)      # output layer\n",
    ")\n",
    "\n",
    "train0(model, X_train, X_test, y_train, y_test, learning_rate=.02, nepochs=8000)"
   ]
  },
  {
   "cell_type": "markdown",
   "metadata": {},
   "source": [
    "Notice now that we can reliably drive that training error down to zero without bouncing around, although it takes longer with the smaller learning rate."
   ]
  },
  {
   "cell_type": "markdown",
   "metadata": {},
   "source": [
    "### Tracking validation loss\n",
    "\n",
    "A low training error doesn't really tell us that much, other than the model is able to capture the relationship between the features and the target variable. What we really want is a general model, which means evaluating the model's performance on a validation set. We have both sets, so let's now track the training and validation error in the loop. We will see that our model performs much worse on the records in the validation set (on which the model was not trained)."
   ]
  },
  {
   "cell_type": "code",
   "execution_count": 63,
   "metadata": {},
   "outputs": [],
   "source": [
    "def train1(model, X_train, X_test, y_train, y_test,\n",
    "           learning_rate = .5, nepochs=2000):\n",
    "    optimizer = torch.optim.Adam(model.parameters(), lr=learning_rate)\n",
    "    history = [] # track training and validation loss\n",
    "    for epoch in range(nepochs+1):\n",
    "        y_pred = model(X_train)\n",
    "        loss = torch.mean((y_pred - y_train)**2)\n",
    "        y_pred_test = model(X_test)\n",
    "        loss_test = torch.mean((y_pred_test - y_test)**2)\n",
    "        history.append((loss, loss_test))\n",
    "        if epoch % (nepochs//10) == 0:\n",
    "            print(f\"Epoch {epoch:4d} MSE train loss {loss:12.3f}   test loss {loss_test:12.3f}\")\n",
    "            \n",
    "        optimizer.zero_grad()\n",
    "        loss.backward() # autograd computes w1.grad, b1.grad, ...\n",
    "        optimizer.step()\n",
    "    return torch.tensor(history)"
   ]
  },
  {
   "cell_type": "markdown",
   "metadata": {},
   "source": [
    "Let's create the exact same model that we had before:"
   ]
  },
  {
   "cell_type": "code",
   "execution_count": 14,
   "metadata": {},
   "outputs": [
    {
     "name": "stdout",
     "output_type": "stream",
     "text": [
      "Epoch    0 MSE train loss    29603.037   test loss    26998.922\n",
      "Epoch  800 MSE train loss     2133.840   test loss     3174.325\n",
      "Epoch 1600 MSE train loss     1423.420   test loss     4316.454\n",
      "Epoch 2400 MSE train loss      375.720   test loss     7257.883\n",
      "Epoch 3200 MSE train loss      120.477   test loss     9051.368\n",
      "Epoch 4000 MSE train loss       57.527   test loss    10240.634\n",
      "Epoch 4800 MSE train loss       31.486   test loss    10784.966\n",
      "Epoch 5600 MSE train loss       16.044   test loss    11113.780\n",
      "Epoch 6400 MSE train loss        8.490   test loss    11283.872\n",
      "Epoch 7200 MSE train loss        6.594   test loss    11503.454\n",
      "Epoch 8000 MSE train loss        3.513   test loss    11644.484\n"
     ]
    },
    {
     "data": {
      "image/png": "[encoded data removed]",
      "text/plain": [
       "<Figure size 252x216 with 1 Axes>"
      ]
     },
     "metadata": {
      "image/png": {
       "height": 207,
       "width": 245
      },
      "needs_background": "light"
     },
     "output_type": "display_data"
    }
   ],
   "source": [
    "ncols = X.shape[1]\n",
    "n_neurons = 150\n",
    "model = nn.Sequential(\n",
    "    nn.Linear(ncols, n_neurons),\n",
    "    nn.ReLU(),\n",
    "    nn.Linear(n_neurons, 1)\n",
    ")\n",
    "\n",
    "history = train1(model, X_train, X_test, y_train, y_test,\n",
    "                 learning_rate=.02, nepochs=8000)\n",
    "\n",
    "plot_history(torch.clamp(history, 0, 12000), file=\"train-test\")"
   ]
  },
  {
   "cell_type": "markdown",
   "metadata": {},
   "source": [
    "Wow. The validation error is much much worse than the training error, which is almost 0. That tells us that the model is severely overfit to the training data and is not general at all. Well, the validation error actually makes a lot of progress initially but then after a few thousand epochs immediately starts to grow (we'll use this fact later).  Unless we do something fancier, the best solution can be obtained by selecting the model parameters that gives us the lowest validation loss."
   ]
  },
  {
   "cell_type": "markdown",
   "metadata": {},
   "source": [
    "### Track best loss and choose best model\n",
    "\n",
    "We saw in the previous section that the most general model appears fairly soon in the training cycle. So, despite being able to drive the training error to zero if we keep going long enough, the most general model actually is known very early in the training process. This is not always the case, but it certainly is here for this data. Let's exploit this by tracking the best model, the one with the lowest validation error. There some indication that a good approach is to (sometimes crank up the power of the model and then) just stop early, or at least pick the model with the lowest validation error. The following function embodies that by making a copy of our neural net model when it finds an improved version."
   ]
  },
  {
   "cell_type": "code",
   "execution_count": 15,
   "metadata": {},
   "outputs": [],
   "source": [
    "def train2(model, X_train, X_test, y_train, y_test,\n",
    "           learning_rate = .5, nepochs=2000, weight_decay=0):\n",
    "    optimizer = torch.optim.Adam(model.parameters(),\n",
    "                                 lr=learning_rate, weight_decay=weight_decay)\n",
    "    history = [] # track training and validation loss\n",
    "    best_loss = 1e10\n",
    "    best_model = None\n",
    "    for epoch in range(nepochs+1):\n",
    "        y_pred = model(X_train)\n",
    "        loss = torch.mean((y_pred - y_train)**2)\n",
    "\n",
    "        y_pred_test = model(X_test)\n",
    "        loss_test = torch.mean((y_pred_test - y_test)**2)\n",
    "        history.append((loss, loss_test))\n",
    "        if loss_test < best_loss:\n",
    "            best_loss = loss_test\n",
    "            best_model = copy.deepcopy(model)\n",
    "            best_epoch = epoch\n",
    "        if epoch % (nepochs//10) == 0:\n",
    "            print(f\"Epoch {epoch:4d} MSE train loss {loss:12.3f}   test loss {loss_test:12.3f}\")\n",
    "            \n",
    "        optimizer.zero_grad()\n",
    "        loss.backward() # autograd computes w1.grad, b1.grad, ...\n",
    "        optimizer.step()\n",
    "    print(f\"BEST MSE test loss {best_loss:.3f} at epoch {best_epoch}\")\n",
    "    return torch.tensor(history), best_model"
   ]
  },
  {
   "cell_type": "markdown",
   "metadata": {},
   "source": [
    "Let's use the exact same model and learning rate with no weight decay and see what happens."
   ]
  },
  {
   "cell_type": "code",
   "execution_count": 64,
   "metadata": {},
   "outputs": [
    {
     "name": "stdout",
     "output_type": "stream",
     "text": [
      "Epoch    0 MSE train loss    29565.133   test loss    26969.477\n",
      "Epoch  100 MSE train loss     2626.783   test loss     3094.345\n",
      "Epoch  200 MSE train loss     2373.439   test loss     3144.432\n",
      "Epoch  300 MSE train loss     2289.213   test loss     3189.719\n",
      "Epoch  400 MSE train loss     2234.759   test loss     3224.917\n",
      "Epoch  500 MSE train loss     2191.735   test loss     3252.248\n",
      "Epoch  600 MSE train loss     2160.511   test loss     3270.010\n",
      "Epoch  700 MSE train loss     2137.964   test loss     3254.622\n",
      "Epoch  800 MSE train loss     2120.482   test loss     3231.413\n",
      "Epoch  900 MSE train loss     2089.598   test loss     3249.099\n",
      "Epoch 1000 MSE train loss     1962.712   test loss     3460.817\n",
      "BEST MSE test loss 3085.759 at epoch 117\n"
     ]
    },
    {
     "data": {
      "image/png": "[encoded data removed]",
      "text/plain": [
       "<Figure size 252x216 with 1 Axes>"
      ]
     },
     "metadata": {
      "image/png": {
       "height": 207,
       "width": 245
      },
      "needs_background": "light"
     },
     "output_type": "display_data"
    }
   ],
   "source": [
    "ncols = X.shape[1]\n",
    "n_neurons = 150\n",
    "model = nn.Sequential(\n",
    "    nn.Linear(ncols, n_neurons),\n",
    "    nn.ReLU(),\n",
    "    nn.Linear(n_neurons, 1)\n",
    ")\n",
    "\n",
    "history, best_model = train2(model, X_train, X_test, y_train, y_test,\n",
    "                             learning_rate=.02, nepochs=1000,\n",
    "                             weight_decay=0)\n",
    "\n",
    "# verify we got the best model out\n",
    "y_pred = best_model(X_test)\n",
    "loss_test = torch.mean((y_pred - y_test)**2)\n",
    "\n",
    "plot_history(torch.clamp(history, 0, 12000))"
   ]
  },
  {
   "cell_type": "markdown",
   "metadata": {},
   "source": [
    "Let's also look at $R^2$:"
   ]
  },
  {
   "cell_type": "code",
   "execution_count": 69,
   "metadata": {},
   "outputs": [
    {
     "data": {
      "text/plain": [
       "(0.5812576830429843, 0.4209466241683596)"
      ]
     },
     "execution_count": 69,
     "metadata": {},
     "output_type": "execute_result"
    }
   ],
   "source": [
    "y_pred = best_model(X_train).detach().numpy()\n",
    "y_pred_test = best_model(X_test).detach().numpy()\n",
    "\n",
    "r2_score(y_train, y_pred), r2_score(y_test, y_pred_test)"
   ]
  },
  {
   "cell_type": "markdown",
   "metadata": {},
   "source": [
    "The best MSE bounces around a loss value of 3000 from run to run, a bit above it or a bit below, depending on the run.  And this decent result occurs without having to understand or use weight decay (more on this next). You might find this article interesting: [Why Deep Learning Works Even Though It Shouldn’t](https://moultano.wordpress.com/2020/10/18/why-deep-learning-works-even-though-it-shouldnt/)."
   ]
  },
  {
   "cell_type": "markdown",
   "metadata": {},
   "source": [
    "### Weight decay to reduce overfitting\n",
    "\n",
    "Other than stopping early, one of the most common ways to reduce model overfitting is to use weight decay, otherwise known as L2 (Ridge) regression, to constrain the model parameters. Without constraints, model parameters can get very large, which typically leads to a lack of generality.  Using the `Adam` optimizer, we turn on weight decay with parameter `weight_decay`, but otherwise the training loop is the same:"
   ]
  },
  {
   "cell_type": "code",
   "execution_count": 17,
   "metadata": {},
   "outputs": [],
   "source": [
    "def train3(model, X_train, X_test, y_train, y_test,\n",
    "           learning_rate = .5, nepochs=2000, weight_decay=0, trace=True):\n",
    "    optimizer = torch.optim.Adam(model.parameters(),\n",
    "                                 lr=learning_rate, weight_decay=weight_decay)\n",
    "    history = [] # track training and validation loss\n",
    "    for epoch in range(nepochs+1):\n",
    "        y_pred = model(X_train)\n",
    "        loss = torch.mean((y_pred - y_train)**2)\n",
    "\n",
    "        y_pred_test = model(X_test)\n",
    "        loss_test = torch.mean((y_pred_test - y_test)**2)\n",
    "        history.append((loss, loss_test))\n",
    "        if trace and epoch % (nepochs//10) == 0:\n",
    "            print(f\"Epoch {epoch:4d} MSE train loss {loss:12.3f}   test loss {loss_test:12.3f}\")\n",
    "            \n",
    "        optimizer.zero_grad()\n",
    "        loss.backward() # autograd computes w1.grad, b1.grad, ...\n",
    "        optimizer.step()\n",
    "    return torch.tensor(history)"
   ]
  },
  {
   "cell_type": "markdown",
   "metadata": {},
   "source": [
    "How do we know what the right value of the weight decay is?  Typically we try a variety of weight decay values and then see which one gives us the best validation error, so let's do that using a grid of images.  The following loop uses the same network and learning rate for each run but varies the weight decay:"
   ]
  },
  {
   "cell_type": "code",
   "execution_count": 72,
   "metadata": {},
   "outputs": [
    {
     "data": {
      "image/png": "[encoded data removed]",
      "text/plain": [
       "<Figure size 900x180 with 4 Axes>"
      ]
     },
     "metadata": {
      "image/png": {
       "height": 171,
       "width": 892
      },
      "needs_background": "light"
     },
     "output_type": "display_data"
    }
   ],
   "source": [
    "ncols = X.shape[1]\n",
    "n_neurons = 150\n",
    "\n",
    "fig, axes = plt.subplots(1, 4, figsize=(12.5,2.5))\n",
    "\n",
    "for wd,ax in zip([0,.3,.6,1.5],axes):\n",
    "    model = nn.Sequential(\n",
    "        nn.Linear(ncols, n_neurons),\n",
    "        nn.ReLU(),\n",
    "        nn.Linear(n_neurons, 1)\n",
    "    )\n",
    "    history = train3(model, X_train, X_test, y_train, y_test,\n",
    "                     learning_rate=.05, nepochs=1000, weight_decay=wd,\n",
    "                     trace=False)\n",
    "    mse_valid = history[-1][1]\n",
    "    ax.set_title(f\"wd={wd:.1f}, valid MSE {mse_valid:.0f}\")\n",
    "    plot_history(torch.clamp(history, 0, 10000), ax=ax, maxy=10_000)\n",
    "\n",
    "plt.tight_layout()\n",
    "plt.show()"
   ]
  },
  {
   "cell_type": "markdown",
   "metadata": {},
   "source": [
    "From this experiment, we can conclude that a weight decay of 1.5 gives the best final mean squared error. But, the experiment is reporting the final MSE all the way on the right side of the graph. \n",
    "\n",
    "The minimum MSE in the above experiment (of four side-by-side graphs), however, appears before the right edge and the validation error simply gets worse after that. That tells us that we should not pick the parameters simply as the parameters where the training leaves off. We should pick the model parameters that give the minimum loss, as we did before."
   ]
  },
  {
   "cell_type": "markdown",
   "metadata": {},
   "source": [
    "#### Exercise\n",
    "\n",
    "Set the weight decay to something huge like 100. What do you observe about the training and validation curves?\n",
    "\n",
    "<details>\n",
    "<summary>Solution</summary>\n",
    "\n",
    "The two curves are flat, and about the same level.  The minimum validation error is about 6000 so much worse than with more reasonable weight decay. We have seriously biased the model because we cannot even drive the training error downwards. The bias comes from the extreme constraint we've placed on the model parameters.\n",
    "    \n",
    "<pre>\n",
    "model = nn.Sequential(\n",
    "    nn.Linear(ncols, n_neurons),\n",
    "    nn.ReLU(),\n",
    "    nn.Linear(n_neurons, 1)\n",
    ")\n",
    "history = train2(model, X_train, X_test, y_train, y_test,\n",
    "                 learning_rate=.05, nepochs=1000, weight_decay=100,\n",
    "                 trace=False)\n",
    "mse_valid = history[-1][1]\n",
    "ax.set_title(f\"wd={wd:.1f}, valid MSE {mse_valid:.0f}\")\n",
    "plot_history(torch.clamp(history, 0, 10000), ax=ax, maxy=10_000)\n",
    "</pre>\n",
    "</details>"
   ]
  }
 ],
 "metadata": {
  "kernelspec": {
   "display_name": "Python 3",
   "language": "python",
   "name": "python3"
  },
  "language_info": {
   "codemirror_mode": {
    "name": "ipython",
    "version": 3
   },
   "file_extension": ".py",
   "mimetype": "text/x-python",
   "name": "python",
   "nbconvert_exporter": "python",
   "pygments_lexer": "ipython3",
   "version": "3.8.6"
  }
 },
 "nbformat": 4,
 "nbformat_minor": 4
}
